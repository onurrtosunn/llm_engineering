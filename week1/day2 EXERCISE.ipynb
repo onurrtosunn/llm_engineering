{
 "cells": [
  {
   "cell_type": "markdown",
   "id": "d15d8294-3328-4e07-ad16-8a03e9bbfdb9",
   "metadata": {},
   "source": [
    "# Welcome to your first assignment!\n",
    "\n",
    "Instructions are below. Please give this a try, and look in the solutions folder if you get stuck (or feel free to ask me!)"
   ]
  },
  {
   "cell_type": "markdown",
   "id": "ada885d9-4d42-4d9b-97f0-74fbbbfe93a9",
   "metadata": {},
   "source": [
    "<table style=\"margin: 0; text-align: left;\">\n",
    "    <tr>\n",
    "        <td style=\"width: 150px; height: 150px; vertical-align: middle;\">\n",
    "            <img src=\"../resources.jpg\" width=\"150\" height=\"150\" style=\"display: block;\" />\n",
    "        </td>\n",
    "        <td>\n",
    "            <h2 style=\"color:#f71;\">Just before we get to the assignment --</h2>\n",
    "            <span style=\"color:#f71;\">I thought I'd take a second to point you at this page of useful resources for the course. This includes links to all the slides.<br/>\n",
    "            <a href=\"https://edwarddonner.com/2024/11/13/llm-engineering-resources/\">https://edwarddonner.com/2024/11/13/llm-engineering-resources/</a><br/>\n",
    "            Please keep this bookmarked, and I'll continue to add more useful links there over time.\n",
    "            </span>\n",
    "        </td>\n",
    "    </tr>\n",
    "</table>"
   ]
  },
  {
   "cell_type": "markdown",
   "id": "6e9fa1fc-eac5-4d1d-9be4-541b3f2b3458",
   "metadata": {},
   "source": [
    "# HOMEWORK EXERCISE ASSIGNMENT\n",
    "\n",
    "Upgrade the day 1 project to summarize a webpage to use an Open Source model running locally via Ollama rather than OpenAI\n",
    "\n",
    "You'll be able to use this technique for all subsequent projects if you'd prefer not to use paid APIs.\n",
    "\n",
    "**Benefits:**\n",
    "1. No API charges - open-source\n",
    "2. Data doesn't leave your box\n",
    "\n",
    "**Disadvantages:**\n",
    "1. Significantly less power than Frontier Model\n",
    "\n",
    "## Recap on installation of Ollama\n",
    "\n",
    "Simply visit [ollama.com](https://ollama.com) and install!\n",
    "\n",
    "Once complete, the ollama server should already be running locally.  \n",
    "If you visit:  \n",
    "[http://localhost:11434/](http://localhost:11434/)\n",
    "\n",
    "You should see the message `Ollama is running`.  \n",
    "\n",
    "If not, bring up a new Terminal (Mac) or Powershell (Windows) and enter `ollama serve`  \n",
    "And in another Terminal (Mac) or Powershell (Windows), enter `ollama pull llama3.2`  \n",
    "Then try [http://localhost:11434/](http://localhost:11434/) again.\n",
    "\n",
    "If Ollama is slow on your machine, try using `llama3.2:1b` as an alternative. Run `ollama pull llama3.2:1b` from a Terminal or Powershell, and change the code below from `MODEL = \"llama3.2\"` to `MODEL = \"llama3.2:1b\"`"
   ]
  },
  {
   "cell_type": "code",
   "execution_count": 1,
   "id": "4e2a9393-7767-488e-a8bf-27c12dca35bd",
   "metadata": {},
   "outputs": [],
   "source": [
    "# imports\n",
    "\n",
    "import requests\n",
    "from bs4 import BeautifulSoup\n",
    "from IPython.display import Markdown, display"
   ]
  },
  {
   "cell_type": "code",
   "execution_count": 2,
   "id": "29ddd15d-a3c5-4f4e-a678-873f56162724",
   "metadata": {},
   "outputs": [],
   "source": [
    "# Constants\n",
    "\n",
    "OLLAMA_API = \"http://localhost:11434/api/chat\"\n",
    "HEADERS = {\"Content-Type\": \"application/json\"}\n",
    "MODEL = \"llama3.2\""
   ]
  },
  {
   "cell_type": "code",
   "execution_count": 3,
   "id": "dac0a679-599c-441f-9bf2-ddc73d35b940",
   "metadata": {},
   "outputs": [],
   "source": [
    "# Create a messages list using the same format that we used for OpenAI\n",
    "\n",
    "messages = [\n",
    "    {\"role\": \"user\", \"content\": \"Describe some of the business applications of Generative AI\"}\n",
    "]"
   ]
  },
  {
   "cell_type": "code",
   "execution_count": 7,
   "id": "7bb9c624-14f0-4945-a719-8ddb64f66f47",
   "metadata": {},
   "outputs": [],
   "source": [
    "payload = {\n",
    "        \"model\": MODEL,\n",
    "        \"messages\": messages,\n",
    "        \"stream\": False\n",
    "    }"
   ]
  },
  {
   "cell_type": "code",
   "execution_count": 5,
   "id": "479ff514-e8bd-4985-a572-2ea28bb4fa40",
   "metadata": {},
   "outputs": [
    {
     "name": "stdout",
     "output_type": "stream",
     "text": [
      "\u001b[?25lpulling manifest ⠋ \u001b[?25h\u001b[?25l\u001b[2K\u001b[1Gpulling manifest ⠙ \u001b[?25h\u001b[?25l\u001b[2K\u001b[1Gpulling manifest ⠹ \u001b[?25h\u001b[?25l\u001b[2K\u001b[1Gpulling manifest ⠸ \u001b[?25h\u001b[?25l\u001b[2K\u001b[1Gpulling manifest ⠼ \u001b[?25h\u001b[?25l\u001b[2K\u001b[1Gpulling manifest ⠴ \u001b[?25h\u001b[?25l\u001b[2K\u001b[1Gpulling manifest ⠦ \u001b[?25h\u001b[?25l\u001b[2K\u001b[1Gpulling manifest \n",
      "pulling dde5aa3fc5ff... 100% ▕████████████████▏ 2.0 GB                         \n",
      "pulling 966de95ca8a6... 100% ▕████████████████▏ 1.4 KB                         \n",
      "pulling fcc5a6bec9da... 100% ▕████████████████▏ 7.7 KB                         \n",
      "pulling a70ff7e570d9... 100% ▕████████████████▏ 6.0 KB                         \n",
      "pulling 56bb8bd477a5... 100% ▕████████████████▏   96 B                         \n",
      "pulling 34bb5ab01051... 100% ▕████████████████▏  561 B                         \n",
      "verifying sha256 digest \n",
      "writing manifest \n",
      "success \u001b[?25h\n"
     ]
    }
   ],
   "source": [
    "# Let's just make sure the model is loaded\n",
    "\n",
    "!ollama pull llama3.2"
   ]
  },
  {
   "cell_type": "code",
   "execution_count": 8,
   "id": "42b9f644-522d-4e05-a691-56e7658c0ea9",
   "metadata": {},
   "outputs": [
    {
     "name": "stdout",
     "output_type": "stream",
     "text": [
      "Generative AI has numerous business applications across various industries, including:\n",
      "\n",
      "1. **Content Creation**: Generative AI can be used to create high-quality content such as articles, social media posts, and product descriptions, reducing the need for human writers and editors.\n",
      "2. **Marketing Automation**: Generative AI can generate personalized marketing messages, offers, and ads based on customer behavior and preferences, helping businesses personalize their marketing efforts.\n",
      "3. **Product Design**: Generative AI can be used to design new products, such as 3D models, logos, and packaging designs, reducing the need for human designers and improving product development efficiency.\n",
      "4. **Image and Video Generation**: Generative AI can generate high-quality images and videos for various applications such as advertising, social media, and entertainment.\n",
      "5. **Chatbots and Virtual Assistants**: Generative AI can be used to create conversational chatbots and virtual assistants that provide personalized customer support and improve user engagement.\n",
      "6. **Predictive Analytics**: Generative AI can analyze large amounts of data to predict customer behavior, identify trends, and make forecasts, helping businesses make informed decisions.\n",
      "7. **Risk Management**: Generative AI can be used to analyze large datasets and identify potential risks and threats to a business, helping companies mitigate those risks and improve their overall security.\n",
      "8. **Personalization**: Generative AI can generate personalized experiences for customers, such as customized product recommendations, tailored content, and optimized user interfaces.\n",
      "9. **Automated Customer Service**: Generative AI can be used to automate customer service tasks, such as responding to common queries, resolving simple issues, and routing complex cases to human representatives.\n",
      "10. **Supply Chain Optimization**: Generative AI can analyze large amounts of data to optimize supply chain operations, predict demand, and identify areas for improvement.\n",
      "\n",
      "Some specific business applications of Generative AI include:\n",
      "\n",
      "* Google's Bard AI, which generates high-quality responses to user queries\n",
      "* Microsoft's Azure AI, which uses generative AI to generate personalized content and recommendations\n",
      "* Amazon's Alexa, which uses generative AI to create conversational chatbots and virtual assistants\n",
      "* IBM's Watson, which uses generative AI to analyze large datasets and provide insights for businesses\n",
      "\n",
      "These are just a few examples of the many business applications of Generative AI. As the technology continues to evolve, we can expect to see even more innovative applications across various industries.\n"
     ]
    }
   ],
   "source": [
    "# If this doesn't work for any reason, try the 2 versions in the following cells\n",
    "# And double check the instructions in the 'Recap on installation of Ollama' at the top of this lab\n",
    "# And if none of that works - contact me!\n",
    "\n",
    "response = requests.post(OLLAMA_API, json=payload, headers=HEADERS)\n",
    "print(response.json()['message']['content'])"
   ]
  },
  {
   "cell_type": "markdown",
   "id": "6a021f13-d6a1-4b96-8e18-4eae49d876fe",
   "metadata": {},
   "source": [
    "# Introducing the ollama package\n",
    "\n",
    "And now we'll do the same thing, but using the elegant ollama python package instead of a direct HTTP call.\n",
    "\n",
    "Under the hood, it's making the same call as above to the ollama server running at localhost:11434"
   ]
  },
  {
   "cell_type": "code",
   "execution_count": 10,
   "id": "7745b9c4-57dc-4867-9180-61fa5db55eb8",
   "metadata": {},
   "outputs": [
    {
     "name": "stdout",
     "output_type": "stream",
     "text": [
      "Generative AI has numerous business applications across various industries. Here are some examples:\n",
      "\n",
      "1. **Content Generation**: Generative AI can be used to create high-quality content such as blog posts, social media posts, product descriptions, and more. It can help businesses save time and resources while maintaining consistency in their content.\n",
      "2. **Product Design and Development**: Generative AI can aid in the design of new products by generating 3D models, product prototypes, and even entire product lines. This can accelerate product development cycles and improve product quality.\n",
      "3. **Image and Video Generation**: Generative AI can generate high-quality images and videos for various applications such as advertising, marketing, and entertainment. It can also be used to create realistic avatars, objects, or environments for virtual reality (VR) and augmented reality (AR) experiences.\n",
      "4. **Chatbots and Virtual Assistants**: Generative AI can power chatbots and virtual assistants that can provide personalized customer support, answer frequently asked questions, and even generate responses to common queries.\n",
      "5. **Marketing and Advertising**: Generative AI can be used to create targeted advertising campaigns by generating personalized messages, product recommendations, and even entire ad creative assets.\n",
      "6. **Data Analysis and Visualization**: Generative AI can help analyze large datasets and generate insights that would otherwise be difficult to extract. It can also be used to create interactive visualizations of data, such as charts, graphs, and heat maps.\n",
      "7. **Customer Service Automation**: Generative AI can automate customer service tasks such as responding to routine inquiries, resolving simple issues, and even generating responses to common complaints.\n",
      "8. **Content Moderation**: Generative AI can help moderate online content by detecting and removing spam, hate speech, or other forms of abusive content from social media platforms and forums.\n",
      "9. **Predictive Analytics**: Generative AI can be used to predict customer behavior, forecast sales trends, and even identify potential risks and opportunities for businesses.\n",
      "10. **Research and Development**: Generative AI can aid researchers in the development of new products, services, and ideas by generating hypotheses, predicting outcomes, and even simulating complex systems.\n",
      "\n",
      "Some specific examples of companies using generative AI include:\n",
      "\n",
      "* **Salesforce**: Using generative AI to create personalized customer experiences and automate customer service tasks.\n",
      "* **Google**: Using generative AI to improve its search engine and generate more accurate and relevant results.\n",
      "* **Amazon**: Using generative AI to power its chatbots, virtual assistants, and content generation capabilities.\n",
      "* **Microsoft**: Using generative AI to create personalized product recommendations and automate marketing efforts.\n",
      "\n",
      "These are just a few examples of the many business applications of Generative AI. As the technology continues to evolve, we can expect to see even more innovative uses across various industries.\n"
     ]
    }
   ],
   "source": [
    "import ollama\n",
    "\n",
    "response = ollama.chat(model=MODEL, messages=messages)\n",
    "print(response['message']['content'])"
   ]
  },
  {
   "cell_type": "markdown",
   "id": "a4704e10-f5fb-4c15-a935-f046c06fb13d",
   "metadata": {},
   "source": [
    "## Alternative approach - using OpenAI python library to connect to Ollama"
   ]
  },
  {
   "cell_type": "code",
   "execution_count": 11,
   "id": "23057e00-b6fc-4678-93a9-6b31cb704bff",
   "metadata": {},
   "outputs": [
    {
     "name": "stdout",
     "output_type": "stream",
     "text": [
      "Generative AI has numerous business applications, transforming various industries and revolutionizing the way companies operate. Here are some examples:\n",
      "\n",
      "1. **Content Generation**: Companies can leverage generative AI to create high-quality, personalized content such as:\n",
      " * Blog posts and articles\n",
      " * Social media posts and ads\n",
      " * Product descriptions and customer testimonials\n",
      " * Personalized videos and animations\n",
      " * Music and audio tracks\n",
      "2. **Design and Visual Creation**: Generative AI can assist in designing visual content such as:\n",
      " * Logos and branding materials\n",
      " * Infographics and charts\n",
      " * Images and artwork for marketing campaigns\n",
      " * Packaging designs and labels\n",
      "3. **Music and Audio Industry**: Generative AI is being used to create original music, sound effects, and audio tracks for:\n",
      " * Advertising and branding\n",
      " * Film and TV shows\n",
      " * Video games\n",
      " * Podcasts and radio shows\n",
      "4. **Writing Assistance**: Generative AI can help with writing tasks such as:\n",
      " * Article writing and editing\n",
      " * Email content generation\n",
      " * Social media posts and responses\n",
      " * Technical documentation and user manuals\n",
      "5. **Customer Service Automation**: Generative AI-powered chatbots can handle customer inquiries, providing quick and personalized support for:\n",
      " * Customer service and support\n",
      " * Sales and marketing\n",
      " * Product research and recommendations\n",
      "6. **Data Analysis and Visualization**: Generative AI can analyze large datasets and create insightful visualizations for:\n",
      " * Market research and analysis\n",
      " * Predictive modeling and forecasting\n",
      " * Business optimization and strategy\n",
      "7. **Marketing and Advertising**: Generative AI can generate personalized ads, email campaigns, and promotional materials for:\n",
      " * Targeted marketing and lead generation\n",
      " * Personalized product recommendations\n",
      " * Influencer marketing and content creation\n",
      "8. **Content Review and Editing**: Generative AI can assist in editing and reviewing written or audio content for:\n",
      " * Grammar and punctuation checks\n",
      " * Clarity and coherence enhancements\n",
      " * Style and tone adjustments\n",
      "9. **Predictive Maintenance and Quality Control**: Generative AI can analyze sensor data and predict equipment failures, optimizing maintenance schedules and reducing downtime for:\n",
      " * Predictive maintenance and quality control\n",
      " * Asset management and resource allocation\n",
      "10. **Autonomous Workflows**: Generative AI can create and execute workflows that automate routine tasks, such as:\n",
      " * Data processing and cleaning\n",
      " * Document conversion and standardization\n",
      " * Reporting and analytics generation\n",
      "\n",
      "These examples illustrate the vast potential of generative AI in various business applications. As the technology continues to evolve, we can expect even more innovative applications across industries.\n"
     ]
    }
   ],
   "source": [
    "# There's actually an alternative approach that some people might prefer\n",
    "# You can use the OpenAI client python library to call Ollama:\n",
    "\n",
    "from openai import OpenAI\n",
    "ollama_via_openai = OpenAI(base_url='http://localhost:11434/v1', api_key='ollama')\n",
    "\n",
    "response = ollama_via_openai.chat.completions.create(\n",
    "    model=MODEL,\n",
    "    messages=messages\n",
    ")\n",
    "\n",
    "print(response.choices[0].message.content)"
   ]
  },
  {
   "cell_type": "markdown",
   "id": "1622d9bb-5c68-4d4e-9ca4-b492c751f898",
   "metadata": {},
   "source": [
    "# NOW the exercise for you\n",
    "\n",
    "Take the code from day1 and incorporate it here, to build a website summarizer that uses Llama 3.2 running locally instead of OpenAI; use either of the above approaches."
   ]
  },
  {
   "cell_type": "code",
   "execution_count": 12,
   "id": "402d5686-4e76-4110-b65a-b3906c35c0a4",
   "metadata": {},
   "outputs": [],
   "source": [
    "import os \n",
    "import requests\n",
    "from dotenv import load_dotenv\n",
    "from bs4 import BeautifulSoup\n",
    "from IPython.display import Markdown, display\n",
    "from openai import OpenAI"
   ]
  },
  {
   "cell_type": "code",
   "execution_count": 13,
   "id": "b79ba7fb-1a09-4223-81a5-25f85152c62d",
   "metadata": {},
   "outputs": [],
   "source": [
    "load_dotenv(override=True)\n",
    "api_key = os.getenv('OPENAI_API_KEY')"
   ]
  },
  {
   "cell_type": "code",
   "execution_count": 14,
   "id": "5533d8cc-55aa-4b6f-b040-e6f01d47717e",
   "metadata": {},
   "outputs": [],
   "source": [
    "openai = OpenAI()"
   ]
  },
  {
   "cell_type": "code",
   "execution_count": 15,
   "id": "cc735f78-217a-479e-911c-f52bed93b2b5",
   "metadata": {},
   "outputs": [
    {
     "name": "stdout",
     "output_type": "stream",
     "text": [
      "To find out how many times the letter \"A\" appears in the given sentence, we'll break it down:\n",
      "\n",
      "The word \"is\" contains no \"A\", the other letters are \"i-s\".\n",
      "\n",
      "Next up comes... \"appears\" which indeed has 2 A's.\n",
      "\n",
      "And lastly the remaining parts of the word \"sentence\" - There isn't any single letter 'a' but it does contain double a in some words like 'appears.'\n"
     ]
    }
   ],
   "source": [
    "from openai import OpenAI\n",
    "model = \"llama3.2\"\n",
    "\n",
    "openai = OpenAI(base_url=\"http://localhost:11434/v1\", api_key=\"ollama\")\n",
    "message = [ {\"role\": \"system\", \"content\": \"You are the assistant who explains the questions in detail\"},\n",
    "            {\"role\": \"user\", \"content\": \"how many times does the letter A appear in this sentence? ?\"}\n",
    "          ]\n",
    "\n",
    "response = openai.chat.completions.create(model = model, messages= message )\n",
    "\n",
    "print(response.choices[0].message.content)"
   ]
  },
  {
   "cell_type": "code",
   "execution_count": null,
   "id": "d63cc897-a432-4055-bcbd-ad05b377f1ce",
   "metadata": {},
   "outputs": [],
   "source": []
  }
 ],
 "metadata": {
  "kernelspec": {
   "display_name": "Python 3 (ipykernel)",
   "language": "python",
   "name": "python3"
  },
  "language_info": {
   "codemirror_mode": {
    "name": "ipython",
    "version": 3
   },
   "file_extension": ".py",
   "mimetype": "text/x-python",
   "name": "python",
   "nbconvert_exporter": "python",
   "pygments_lexer": "ipython3",
   "version": "3.11.11"
  }
 },
 "nbformat": 4,
 "nbformat_minor": 5
}
